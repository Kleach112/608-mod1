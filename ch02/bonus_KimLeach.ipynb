{
 "cells": [
  {
   "cell_type": "code",
   "execution_count": 5,
   "id": "905610b3-85be-425a-b002-b250d0c13bfe",
   "metadata": {},
   "outputs": [
    {
     "data": {
      "text/plain": [
       "1.7"
      ]
     },
     "execution_count": 5,
     "metadata": {},
     "output_type": "execute_result"
    }
   ],
   "source": [
    "# Student Data - Kim Leach - Min GPA\n",
    "GPA = (4.0, 3.95, 2.3, 4.0, 1.7, 3.6, 2.73, 3.71)\n",
    "min(GPA)"
   ]
  },
  {
   "cell_type": "code",
   "execution_count": 6,
   "id": "c1876458-d62f-4739-85f1-7b8bf87694ac",
   "metadata": {},
   "outputs": [
    {
     "data": {
      "text/plain": [
       "4.0"
      ]
     },
     "execution_count": 6,
     "metadata": {},
     "output_type": "execute_result"
    }
   ],
   "source": [
    "# Max GPA\n",
    "max(GPA)"
   ]
  },
  {
   "cell_type": "code",
   "execution_count": 11,
   "id": "d6064eff-1993-4dfd-afcf-064902411e55",
   "metadata": {},
   "outputs": [
    {
     "data": {
      "text/plain": [
       "3.0"
      ]
     },
     "execution_count": 11,
     "metadata": {},
     "output_type": "execute_result"
    }
   ],
   "source": [
    "sum(GPA)//len(GPA)"
   ]
  },
  {
   "cell_type": "code",
   "execution_count": 12,
   "id": "02b5244e-4890-4b4b-a4d7-547f75ff83ad",
   "metadata": {},
   "outputs": [
    {
     "ename": "NameError",
     "evalue": "name 'original_data' is not defined",
     "output_type": "error",
     "traceback": [
      "\u001b[1;31m---------------------------------------------------------------------------\u001b[0m",
      "\u001b[1;31mNameError\u001b[0m                                 Traceback (most recent call last)",
      "Input \u001b[1;32mIn [12]\u001b[0m, in \u001b[0;36m<cell line: 2>\u001b[1;34m()\u001b[0m\n\u001b[0;32m      1\u001b[0m stu_list \u001b[38;5;241m=\u001b[39m (\u001b[38;5;241m263085\u001b[39m,\u001b[38;5;241m220611\u001b[39m,\u001b[38;5;241m408531\u001b[39m,\u001b[38;5;241m223166\u001b[39m,\u001b[38;5;241m322124\u001b[39m,\u001b[38;5;241m322170\u001b[39m,\u001b[38;5;241m216926\u001b[39m,\u001b[38;5;241m321047\u001b[39m,\u001b[38;5;241m241992\u001b[39m,\u001b[38;5;241m240355\u001b[39m,\u001b[38;5;241m215050\u001b[39m,\u001b[38;5;241m220396\u001b[39m)\n\u001b[1;32m----> 2\u001b[0m split_lists \u001b[38;5;241m=\u001b[39m [original_data[x:x\u001b[38;5;241m+\u001b[39m\u001b[38;5;241m3\u001b[39m] \u001b[38;5;28;01mfor\u001b[39;00m x \u001b[38;5;129;01min\u001b[39;00m \u001b[38;5;28mrange\u001b[39m(\u001b[38;5;241m0\u001b[39m, \u001b[38;5;28mlen\u001b[39m(\u001b[43moriginal_data\u001b[49m), \u001b[38;5;241m3\u001b[39m)]\n\u001b[0;32m      3\u001b[0m \u001b[38;5;28mprint\u001b[39m(split_lists)\n",
      "\u001b[1;31mNameError\u001b[0m: name 'original_data' is not defined"
     ]
    }
   ],
   "source": [
    "stu_list = (263085,220611,408531,223166,322124,322170,216926,321047,241992,240355,215050,220396)\n",
    "split_lists = [origina[x:x+3] for x in range(0, len(original_data), 3)]\n",
    "print(split_lists)"
   ]
  },
  {
   "cell_type": "code",
   "execution_count": null,
   "id": "ed08c751-bc1d-4c82-ad91-1ef3044b4a05",
   "metadata": {},
   "outputs": [],
   "source": []
  }
 ],
 "metadata": {
  "kernelspec": {
   "display_name": "Python 3 (ipykernel)",
   "language": "python",
   "name": "python3"
  },
  "language_info": {
   "codemirror_mode": {
    "name": "ipython",
    "version": 3
   },
   "file_extension": ".py",
   "mimetype": "text/x-python",
   "name": "python",
   "nbconvert_exporter": "python",
   "pygments_lexer": "ipython3",
   "version": "3.9.12"
  }
 },
 "nbformat": 4,
 "nbformat_minor": 5
}
