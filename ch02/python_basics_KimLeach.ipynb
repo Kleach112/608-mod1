{
 "cells": [
  {
   "cell_type": "code",
   "execution_count": 1,
   "id": "1a538f93-98c2-4e10-b67b-02102aa3d964",
   "metadata": {},
   "outputs": [
    {
     "data": {
      "text/plain": [
       "2"
      ]
     },
     "execution_count": 1,
     "metadata": {},
     "output_type": "execute_result"
    }
   ],
   "source": [
    "min(2,5,8)"
   ]
  },
  {
   "cell_type": "code",
   "execution_count": 2,
   "id": "2938418e-2190-4e85-9e90-cb94463863e8",
   "metadata": {},
   "outputs": [
    {
     "data": {
      "text/plain": [
       "20"
      ]
     },
     "execution_count": 2,
     "metadata": {},
     "output_type": "execute_result"
    }
   ],
   "source": [
    "max(5,10,20)"
   ]
  },
  {
   "cell_type": "code",
   "execution_count": 3,
   "id": "58cac738-ea20-4112-a78b-824cf86d18bb",
   "metadata": {},
   "outputs": [
    {
     "data": {
      "text/plain": [
       "15"
      ]
     },
     "execution_count": 3,
     "metadata": {},
     "output_type": "execute_result"
    }
   ],
   "source": [
    "sum([2,5,8])"
   ]
  },
  {
   "cell_type": "code",
   "execution_count": 15,
   "id": "f0504043-9b18-4279-a1a6-51eed98400e9",
   "metadata": {},
   "outputs": [
    {
     "data": {
      "text/plain": [
       "range(0, 10)"
      ]
     },
     "execution_count": 15,
     "metadata": {},
     "output_type": "execute_result"
    }
   ],
   "source": [
    "range(10)"
   ]
  },
  {
   "cell_type": "code",
   "execution_count": 11,
   "id": "4a06afdc-5d1d-479f-bc17-31215e3fb72b",
   "metadata": {},
   "outputs": [
    {
     "name": "stdout",
     "output_type": "stream",
     "text": [
      "10\n",
      "12\n",
      "14\n",
      "16\n",
      "18\n",
      "20\n"
     ]
    }
   ],
   "source": [
    "x = range(10,22,2)\n",
    "for n in x:\n",
    "    print(n)"
   ]
  },
  {
   "cell_type": "code",
   "execution_count": 19,
   "id": "aefb832c-ec0d-4084-9f0f-76d3c94d75a9",
   "metadata": {},
   "outputs": [
    {
     "data": {
      "text/plain": [
       "11"
      ]
     },
     "execution_count": 19,
     "metadata": {},
     "output_type": "execute_result"
    }
   ],
   "source": [
    "x = (0,10,20,30,40,50,60,70,80,90,100)\n",
    "len(x)"
   ]
  },
  {
   "cell_type": "code",
   "execution_count": 22,
   "id": "ef91dbd2-e30a-435b-bab3-9bcbc813db36",
   "metadata": {},
   "outputs": [
    {
     "data": {
      "text/plain": [
       "20.0"
      ]
     },
     "execution_count": 22,
     "metadata": {},
     "output_type": "execute_result"
    }
   ],
   "source": [
    "x = (10,20,30)\n",
    "sum(x)/len(x)"
   ]
  },
  {
   "cell_type": "code",
   "execution_count": 25,
   "id": "81be575f-64c0-4948-b87d-42a8f89620c7",
   "metadata": {},
   "outputs": [
    {
     "data": {
      "text/plain": [
       "4.0"
      ]
     },
     "execution_count": 25,
     "metadata": {},
     "output_type": "execute_result"
    }
   ],
   "source": [
    "EMP = (\"Valerie\", \"Kim\", \"Shelly\", \"Shane\", \"Jordan\", \"Nancy\", \"Rob\", \"Cindy\", \"Deidre\", \"Jarrod\", \"Carla\", \"Brian\", \"Dave\", \"Donna\", \"Marlo\", \"Sara\")\n",
    "len(EMP)/4"
   ]
  },
  {
   "cell_type": "code",
   "execution_count": null,
   "id": "34ee698d-a7e7-46c6-a718-36ddea78f054",
   "metadata": {},
   "outputs": [],
   "source": []
  }
 ],
 "metadata": {
  "kernelspec": {
   "display_name": "Python 3 (ipykernel)",
   "language": "python",
   "name": "python3"
  },
  "language_info": {
   "codemirror_mode": {
    "name": "ipython",
    "version": 3
   },
   "file_extension": ".py",
   "mimetype": "text/x-python",
   "name": "python",
   "nbconvert_exporter": "python",
   "pygments_lexer": "ipython3",
   "version": "3.9.12"
  }
 },
 "nbformat": 4,
 "nbformat_minor": 5
}
